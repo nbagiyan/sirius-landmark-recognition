{
 "cells": [
  {
   "cell_type": "markdown",
   "id": "6e03c228-d07f-4219-bac5-e8a7475b0ebc",
   "metadata": {},
   "source": [
    "## Telegram Bot\n",
    "\n",
    "Цель сегощняшнего занятия ознакомиться с Telegram Python API и сделать простого бота на ваш вкус. В рамках занятия мы будем работать с библиотекой и с самим телеграмом. \n",
    "\n",
    "\n",
    "Давайте для начала разберемся как создавать бота: \n",
    "\n",
    "1. Для создания бота в телеграме используется специальный чат, который можно найти просто введя в поиск `@BotFather`. \n",
    "<img src=\"imgs/step1.png\" width=\"300\" height=\"150\">\n",
    "\n",
    "2. Далее печатаем в строке для сообщения символ `/` и выбираем команду `newbot`\n",
    "<img src=\"imgs/step2.png\" width=\"300\" height=\"150\">\n",
    "\n",
    "3. После этого у вас должно появится следующее сообщение: `Alright, a new bot. How are we going to call it? Please choose a name for your bot.` Это означает, что вы должны придумать имя для вашего бота. Например, если вы хотите, чтобы вашего бота звали `SiriusBot`. Значит, что вы должны отправить сообщение со строкой `SiriusBot` в ней.  \n",
    "\n",
    "4. Если все прошло хорошо, то вы увидите сообщение с предложением выбрать никнейм для бота, по которому вы сможете найти его в телеграме: `Good. Now let's choose a username for your bot. It must end in **bot**. Like this, for example: TetrisBot or tetris_bot.`. **Важно**: никнейм для бота должен заканчиваться на **bot**. Например, это может быть @sirius_tutorial_bot\n",
    "\n",
    "5. После этого вы должны получить такое сообщение: \n",
    "\n",
    "```"
   ]
  },
  {
   "cell_type": "code",
   "execution_count": null,
   "id": "3174ceed-2cbc-4fb3-84cb-c853bf27086c",
   "metadata": {},
   "outputs": [],
   "source": []
  }
 ],
 "metadata": {
  "kernelspec": {
   "display_name": "Python 3 (ipykernel)",
   "language": "python",
   "name": "python3"
  },
  "language_info": {
   "codemirror_mode": {
    "name": "ipython",
    "version": 3
   },
   "file_extension": ".py",
   "mimetype": "text/x-python",
   "name": "python",
   "nbconvert_exporter": "python",
   "pygments_lexer": "ipython3",
   "version": "3.9.9"
  }
 },
 "nbformat": 4,
 "nbformat_minor": 5
}
